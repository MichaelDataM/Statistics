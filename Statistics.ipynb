{
 "cells": [
  {
   "cell_type": "markdown",
   "metadata": {},
   "source": [
    "## Statistical Analysis"
   ]
  },
  {
   "cell_type": "code",
   "execution_count": 56,
   "metadata": {},
   "outputs": [
    {
     "data": {
      "text/plain": [
       "[80.0, 0.0, 80.0]"
      ]
     },
     "execution_count": 56,
     "metadata": {},
     "output_type": "execute_result"
    }
   ],
   "source": [
    "[df_clean.fttrump1.quantile(.75),\n",
    "df_clean.fttrump1.quantile(.25),\n",
    "df_clean.fttrump1.quantile(.75) - df_clean.fttrump1.quantile(.25)]"
   ]
  },
  {
   "cell_type": "markdown",
   "metadata": {},
   "source": [
    "There is a clear relationship between party affiliation and candidates' thermometer ratings."
   ]
  },
  {
   "cell_type": "code",
   "execution_count": 58,
   "metadata": {},
   "outputs": [
    {
     "data": {
      "text/html": [
       "<div>\n",
       "<style scoped>\n",
       "    .dataframe tbody tr th:only-of-type {\n",
       "        vertical-align: middle;\n",
       "    }\n",
       "\n",
       "    .dataframe tbody tr th {\n",
       "        vertical-align: top;\n",
       "    }\n",
       "\n",
       "    .dataframe thead th {\n",
       "        text-align: right;\n",
       "    }\n",
       "</style>\n",
       "<table border=\"1\" class=\"dataframe\">\n",
       "  <thead>\n",
       "    <tr style=\"text-align: right;\">\n",
       "      <th>self_ideology</th>\n",
       "      <th>Liberal</th>\n",
       "      <th>Moderate</th>\n",
       "      <th>Conservative</th>\n",
       "    </tr>\n",
       "    <tr>\n",
       "      <th>worry_covid_economy</th>\n",
       "      <th></th>\n",
       "      <th></th>\n",
       "      <th></th>\n",
       "    </tr>\n",
       "  </thead>\n",
       "  <tbody>\n",
       "    <tr>\n",
       "      <th>A little worried</th>\n",
       "      <td>36.57</td>\n",
       "      <td>-4.63</td>\n",
       "      <td>-53.56</td>\n",
       "    </tr>\n",
       "    <tr>\n",
       "      <th>Extremely worried</th>\n",
       "      <td>40.57</td>\n",
       "      <td>22.21</td>\n",
       "      <td>-33.80</td>\n",
       "    </tr>\n",
       "    <tr>\n",
       "      <th>Moderately worried</th>\n",
       "      <td>36.31</td>\n",
       "      <td>3.53</td>\n",
       "      <td>-51.55</td>\n",
       "    </tr>\n",
       "    <tr>\n",
       "      <th>Not at all worried</th>\n",
       "      <td>25.91</td>\n",
       "      <td>-6.38</td>\n",
       "      <td>-60.71</td>\n",
       "    </tr>\n",
       "    <tr>\n",
       "      <th>Very worried</th>\n",
       "      <td>37.09</td>\n",
       "      <td>11.12</td>\n",
       "      <td>-40.72</td>\n",
       "    </tr>\n",
       "  </tbody>\n",
       "</table>\n",
       "</div>"
      ],
      "text/plain": [
       "self_ideology        Liberal  Moderate  Conservative\n",
       "worry_covid_economy                                 \n",
       "A little worried       36.57     -4.63        -53.56\n",
       "Extremely worried      40.57     22.21        -33.80\n",
       "Moderately worried     36.31      3.53        -51.55\n",
       "Not at all worried     25.91     -6.38        -60.71\n",
       "Very worried           37.09     11.12        -40.72"
      ]
     },
     "execution_count": 58,
     "metadata": {},
     "output_type": "execute_result"
    }
   ],
   "source": [
    "df_clean['partisanship'] = df_clean['ftbiden1'] - df_clean['fttrump1']\n",
    "pd.crosstab(df_clean['worry_covid_economy'], df_clean['self_ideology'], values=df_clean['partisanship'], aggfunc='mean').round(2)"
   ]
  },
  {
   "cell_type": "markdown",
   "metadata": {},
   "source": [
    "### Independent samples"
   ]
  },
  {
   "cell_type": "code",
   "execution_count": 59,
   "metadata": {},
   "outputs": [
    {
     "data": {
      "text/plain": [
       "Ttest_indResult(statistic=5.133795136669474, pvalue=3.0172390917880847e-07)"
      ]
     },
     "execution_count": 59,
     "metadata": {},
     "output_type": "execute_result"
    }
   ],
   "source": [
    "from scipy import stats\n",
    "\n",
    "fttrump_men = df_clean.query(\"sex=='Male'\").fttrump1.dropna()\n",
    "fttrump_women = df_clean.query(\"sex=='Female'\").fttrump1.dropna()\n",
    "\n",
    "stats.ttest_ind(fttrump_men, fttrump_women, equal_var=False) ## independent samples"
   ]
  },
  {
   "cell_type": "markdown",
   "metadata": {},
   "source": [
    "Therefore, we can reject the null hypothesis and conclude that there is a statistically significant difference between men and women in terms of how highly they rate Trump, on average."
   ]
  },
  {
   "cell_type": "code",
   "execution_count": 60,
   "metadata": {},
   "outputs": [
    {
     "data": {
      "text/plain": [
       "Ttest_indResult(statistic=1.6038731186457855, pvalue=0.10884548070401018)"
      ]
     },
     "execution_count": 60,
     "metadata": {},
     "output_type": "execute_result"
    }
   ],
   "source": [
    "ftbiden_men = df_clean.query(\"sex=='Male'\").ftbiden1.dropna()\n",
    "ftbiden_women = df_clean.query(\"sex=='Female'\").ftbiden1.dropna()\n",
    "\n",
    "stats.ttest_ind(ftbiden_men, ftbiden_women, equal_var=False) ## independent samples"
   ]
  },
  {
   "cell_type": "markdown",
   "metadata": {},
   "source": [
    "We failed to reject the null hypothesis and that women and men have the same average thermometer rating to Biden."
   ]
  },
  {
   "cell_type": "markdown",
   "metadata": {},
   "source": [
    "#### Compare the average rating of Trump to the average rating of Biden"
   ]
  },
  {
   "cell_type": "code",
   "execution_count": 61,
   "metadata": {},
   "outputs": [
    {
     "data": {
      "text/plain": [
       "{'Trump': 42.41913439635535,\n",
       " 'Biden': 45.16868257600523,\n",
       " 'difference': -2.749548179649878}"
      ]
     },
     "execution_count": 61,
     "metadata": {},
     "output_type": "execute_result"
    }
   ],
   "source": [
    "{'Trump': df_clean['fttrump1'].mean(),\n",
    " 'Biden': df_clean['ftbiden1'].mean(),\n",
    " 'difference': df_clean['fttrump1'].mean() - df_clean['ftbiden1'].mean()}"
   ]
  },
  {
   "cell_type": "markdown",
   "metadata": {},
   "source": [
    "### Pair samples"
   ]
  },
  {
   "cell_type": "code",
   "execution_count": 1,
   "metadata": {},
   "outputs": [
    {
     "ename": "NameError",
     "evalue": "name 'df_clean' is not defined",
     "output_type": "error",
     "traceback": [
      "\u001b[0;31m---------------------------------------------------------------------------\u001b[0m",
      "\u001b[0;31mNameError\u001b[0m                                 Traceback (most recent call last)",
      "Cell \u001b[0;32mIn[1], line 1\u001b[0m\n\u001b[0;32m----> 1\u001b[0m df_ttest \u001b[38;5;241m=\u001b[39m df_clean[[\u001b[38;5;124m'\u001b[39m\u001b[38;5;124mfttrump1\u001b[39m\u001b[38;5;124m'\u001b[39m, \u001b[38;5;124m'\u001b[39m\u001b[38;5;124mftbiden1\u001b[39m\u001b[38;5;124m'\u001b[39m]]\u001b[38;5;241m.\u001b[39mdropna()\n\u001b[1;32m      2\u001b[0m stats\u001b[38;5;241m.\u001b[39mttest_rel(df_ttest[\u001b[38;5;124m'\u001b[39m\u001b[38;5;124mfttrump1\u001b[39m\u001b[38;5;124m'\u001b[39m], df_ttest[\u001b[38;5;124m'\u001b[39m\u001b[38;5;124mftbiden1\u001b[39m\u001b[38;5;124m'\u001b[39m])\n",
      "\u001b[0;31mNameError\u001b[0m: name 'df_clean' is not defined"
     ]
    }
   ],
   "source": [
    "df_ttest = df_clean[['fttrump1', 'ftbiden1']].dropna()\n",
    "stats.ttest_rel(df_ttest['fttrump1'], df_ttest['ftbiden1']) ## Pair samples"
   ]
  },
  {
   "cell_type": "markdown",
   "metadata": {},
   "source": [
    "We reject the null hypothesis and conclude that there is a statistically significant difference between voters rate Trump vs. Biden, on average."
   ]
  },
  {
   "cell_type": "markdown",
   "metadata": {},
   "source": [
    "### Test of multiple comparisons-one-way anova\n",
    "\n",
    "Whether there is a significant difference between the average age of democrat, independent, and republican voters."
   ]
  },
  {
   "cell_type": "code",
   "execution_count": 63,
   "metadata": {},
   "outputs": [
    {
     "data": {
      "text/html": [
       "<div>\n",
       "<style scoped>\n",
       "    .dataframe tbody tr th:only-of-type {\n",
       "        vertical-align: middle;\n",
       "    }\n",
       "\n",
       "    .dataframe tbody tr th {\n",
       "        vertical-align: top;\n",
       "    }\n",
       "\n",
       "    .dataframe thead th {\n",
       "        text-align: right;\n",
       "    }\n",
       "</style>\n",
       "<table border=\"1\" class=\"dataframe\">\n",
       "  <thead>\n",
       "    <tr style=\"text-align: right;\">\n",
       "      <th></th>\n",
       "      <th>age</th>\n",
       "    </tr>\n",
       "    <tr>\n",
       "      <th>partyID</th>\n",
       "      <th></th>\n",
       "    </tr>\n",
       "  </thead>\n",
       "  <tbody>\n",
       "    <tr>\n",
       "      <th>Democrat</th>\n",
       "      <td>49.941731</td>\n",
       "    </tr>\n",
       "    <tr>\n",
       "      <th>Republican</th>\n",
       "      <td>54.021494</td>\n",
       "    </tr>\n",
       "    <tr>\n",
       "      <th>independent</th>\n",
       "      <td>49.203410</td>\n",
       "    </tr>\n",
       "  </tbody>\n",
       "</table>\n",
       "</div>"
      ],
      "text/plain": [
       "                   age\n",
       "partyID               \n",
       "Democrat     49.941731\n",
       "Republican   54.021494\n",
       "independent  49.203410"
      ]
     },
     "execution_count": 63,
     "metadata": {},
     "output_type": "execute_result"
    }
   ],
   "source": [
    "df_clean.loc[~(df_clean['partyID']=='something else')].groupby('partyID').agg({'age': 'mean'})"
   ]
  },
  {
   "cell_type": "code",
   "execution_count": 64,
   "metadata": {},
   "outputs": [
    {
     "data": {
      "text/plain": [
       "F_onewayResult(statistic=23.18228867227828, pvalue=1.0233980844224508e-10)"
      ]
     },
     "execution_count": 64,
     "metadata": {},
     "output_type": "execute_result"
    }
   ],
   "source": [
    "stats.f_oneway(df_clean.query(\"partyID=='Democrat'\").age.dropna(),\n",
    "               df_clean.query(\"partyID=='Republican'\").age.dropna(),\n",
    "               df_clean.query(\"partyID=='independent'\").age.dropna()) ## one-way anowa"
   ]
  },
  {
   "cell_type": "markdown",
   "metadata": {},
   "source": [
    "The p-value is much smaller than .05, so we reject the null hypothesis and conclude that there is a statistically significant difference between these three parties in terms of voters' average age."
   ]
  },
  {
   "cell_type": "markdown",
   "metadata": {},
   "source": [
    "### Tests of association -chi square\n",
    "\n",
    "Conservatives overwhelmingly oppose both universal basic income & free college, with 79% of conservatives stating that they oppose them. Only 44% of liberals, in contrast, oppose both universal basic income & free college.\n",
    "\n",
    "Whether these differences are strong enough for us to conclude that there are ideological differences in support for both universal basic income & free college."
   ]
  },
  {
   "cell_type": "code",
   "execution_count": 65,
   "metadata": {},
   "outputs": [
    {
     "data": {
      "text/html": [
       "<div>\n",
       "<style scoped>\n",
       "    .dataframe tbody tr th:only-of-type {\n",
       "        vertical-align: middle;\n",
       "    }\n",
       "\n",
       "    .dataframe tbody tr th {\n",
       "        vertical-align: top;\n",
       "    }\n",
       "\n",
       "    .dataframe thead th {\n",
       "        text-align: right;\n",
       "    }\n",
       "</style>\n",
       "<table border=\"1\" class=\"dataframe\">\n",
       "  <thead>\n",
       "    <tr style=\"text-align: right;\">\n",
       "      <th>self_ideology</th>\n",
       "      <th>Liberal</th>\n",
       "      <th>Moderate</th>\n",
       "      <th>Conservative</th>\n",
       "    </tr>\n",
       "    <tr>\n",
       "      <th>favor_both</th>\n",
       "      <th></th>\n",
       "      <th></th>\n",
       "      <th></th>\n",
       "    </tr>\n",
       "  </thead>\n",
       "  <tbody>\n",
       "    <tr>\n",
       "      <th>False</th>\n",
       "      <td>44.19</td>\n",
       "      <td>71.95</td>\n",
       "      <td>79.22</td>\n",
       "    </tr>\n",
       "    <tr>\n",
       "      <th>True</th>\n",
       "      <td>55.81</td>\n",
       "      <td>28.05</td>\n",
       "      <td>20.78</td>\n",
       "    </tr>\n",
       "  </tbody>\n",
       "</table>\n",
       "</div>"
      ],
      "text/plain": [
       "self_ideology  Liberal  Moderate  Conservative\n",
       "favor_both                                    \n",
       "False            44.19     71.95         79.22\n",
       "True             55.81     28.05         20.78"
      ]
     },
     "execution_count": 65,
     "metadata": {},
     "output_type": "execute_result"
    }
   ],
   "source": [
    "round(pd.crosstab(df_clean['favor_both'], df_clean['self_ideology'], normalize='columns')*100,2)"
   ]
  },
  {
   "cell_type": "code",
   "execution_count": 66,
   "metadata": {},
   "outputs": [
    {
     "data": {
      "text/plain": [
       "(333.6356352497014,\n",
       " 3.56403797143625e-73,\n",
       " 2,\n",
       " array([[758.31428571, 507.45779221, 700.22792208],\n",
       "        [429.68571429, 287.54220779, 396.77207792]]))"
      ]
     },
     "execution_count": 66,
     "metadata": {},
     "output_type": "execute_result"
    }
   ],
   "source": [
    "stats.chi2_contingency(pd.crosstab(df_clean['favor_both'], df_clean['self_ideology']).values) ## chi-square"
   ]
  },
  {
   "cell_type": "markdown",
   "metadata": {},
   "source": [
    "The p-value at 3.56e-73 is much less than .05. Therefore, we reject the null hypothesis and conclude that there is a statistically significant relationship between ideology and support for both universal basic income & free college."
   ]
  }
 ],
 "metadata": {
  "kernelspec": {
   "display_name": "Python 3 (ipykernel)",
   "language": "python",
   "name": "python3"
  },
  "language_info": {
   "codemirror_mode": {
    "name": "ipython",
    "version": 3
   },
   "file_extension": ".py",
   "mimetype": "text/x-python",
   "name": "python",
   "nbconvert_exporter": "python",
   "pygments_lexer": "ipython3",
   "version": "3.11.4"
  }
 },
 "nbformat": 4,
 "nbformat_minor": 2
}
